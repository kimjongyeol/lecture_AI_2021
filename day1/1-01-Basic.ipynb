{
 "cells": [
  {
   "cell_type": "markdown",
   "metadata": {},
   "source": [
    "# Getting Started Python\n",
    "\n",
    "1. [파이썬-코드의-이해](#파이썬-코드의-이해)\n",
    "    1. [예약어와 변수](#예약어와-변수)\n",
    "1. [데이터 모델](#데이터-모델)\n",
    "1. [Numbers](#Numbers)\n",
    "    1. [Boolean](#Boolean)\n",
    "1. [type check](#type-check)\n",
    "1. [Operators](#Operators)\n",
    "1. [Future statement](#future-statement)\n",
    "1. [Doc String](#Doc-String)\n",
    "1. [객체의 참조와 복사](#객체의-참조와-복사)\n",
    "1. [Control Flow](#Control-Flow)\n",
    "1. [Error와 Exception](#Error와-Exception)"
   ]
  },
  {
   "cell_type": "code",
   "execution_count": null,
   "metadata": {},
   "outputs": [],
   "source": [
    "!python --version"
   ]
  },
  {
   "cell_type": "code",
   "execution_count": null,
   "metadata": {},
   "outputs": [],
   "source": [
    "!python -V"
   ]
  },
  {
   "cell_type": "markdown",
   "metadata": {},
   "source": [
    "#### Python 버전\n",
    "\n",
    "1. 파이썬 : [파이썬,wikipedia](https://ko.wikipedia.org/wiki/파이썬)\n",
    "2. 파이썬 버전표: [파이썬 버전표,wikipedia ](https://ko.wikipedia.org/wiki/파이썬의_역사#버전_표)\n",
    "\n",
    "#### The zen of Python\n",
    "\n",
    "\n",
    "```cmd\n",
    "$ python\n",
    "Python 3.8.2 (default, Jul 16 2020, 14:00:26) \n",
    "[GCC 9.3.0] on linux\n",
    "\n",
    ">>> import this\n",
    "The Zen of Python, by Tim Peters\n",
    "```\n",
    "\n",
    "- 아름다운 것이 추한 것보다 낫다. (Beautiful is better than ugly.)\n",
    "- 명시적인 것이 암시적인 것보다 낫다. (Explicit is better than implicit.)\n",
    "- 간결한 것이 복합적인 것보다 낫다. (Simple is better than complex.)\n",
    "- 복합적인 것이 복잡한 것보다 낫다. (Complex is better than complicated.)\n",
    "- 수평적인 것이 내포된 것보다 낫다. (Flat is better than nested.)\n",
    "- 여유로운 것이 밀집한 것보다 낫다. (Sparse is better than dense.)\n",
    "- 가독성은 중요하다. (Readability counts.)\n",
    "- 특별한 경우들은 규칙을 어길정도로 특별하지 않다. (Special cases aren't special enough to break the rules.)\n",
    "- 허나 실용성은 순수성을 이긴다. (Although practicality beats purity.)\n",
    "- 오류는 절대로 조용히 지나가지 않는다. (Errors should never pass silently.)\n",
    "- 명시적으로 오류를 감추려는 의도가 아니라면. (Unless explicitly silenced.)\n",
    "- 모호함을 대할때, 이를 추측하려는 유혹을 거부하라. (In the face of ambiguity, refuse the temptation to guess.)\n",
    "- 명확한-- 그리고 가급적이면 유일한 -- 하나의 방법은 항상 존재한다. (There should be one-- and preferably only one --obvious way to do it.)\n",
    "- 비록 그 방법이 처음에는 명확해 보이지 않을지라도[2]. (Although that way may not be obvious at first unless you're Dutch.)\n",
    "- 지금 행동에 옮기는 것이 아예 안하는 것보다는 낫다. (Now is better than never.)\n",
    "- 비록 아예 안하는 것이 지금 *당장* 하는 것보다 나을때도 많지만. (Although never is often better than *right* now.)\n",
    "- 구현 결과를 설명하기 쉽지 않다면, 그것은 나쁜 아이디어이다. (If the implementation is hard to explain, it's a bad idea.)\n",
    "- 구현 결과를 설명하기 쉽다면, 그것은 좋은 아이디어일지도 모른다. (If the implementation is easy to explain, it may be a good idea.)\n",
    "- 네임스페이스를 사용하는 것은 완전 좋은 생각이다! (Namespaces are one honking great idea -- let's do more of those!)\n",
    "\n",
    "\n"
   ]
  },
  {
   "cell_type": "markdown",
   "metadata": {},
   "source": [
    "# 파이썬 코드의 이해\n",
    "\n",
    "1. 파이썬 코드의 이해\n",
    "1. 리터럴\n",
    "1. 키워드\n"
   ]
  },
  {
   "cell_type": "markdown",
   "metadata": {},
   "source": [
    "Indentation, not braces\n",
    "\n",
    "```python\n",
    "for x in array:\n",
    "    if x < pivot:\n",
    "        less.append(x)\n",
    "    else:\n",
    "        greater.append(x)\n",
    "```"
   ]
  },
  {
   "cell_type": "markdown",
   "metadata": {},
   "source": [
    "### 대입, 리터럴"
   ]
  },
  {
   "cell_type": "code",
   "execution_count": null,
   "metadata": {},
   "outputs": [],
   "source": [
    "number = \"숫자\"\n",
    "number + \"는 100 입니다.\""
   ]
  },
  {
   "cell_type": "code",
   "execution_count": null,
   "metadata": {},
   "outputs": [],
   "source": [
    "number = 100\n",
    "number + 200"
   ]
  },
  {
   "cell_type": "code",
   "execution_count": null,
   "metadata": {},
   "outputs": [],
   "source": [
    "# Comments\n"
   ]
  },
  {
   "cell_type": "code",
   "execution_count": null,
   "metadata": {},
   "outputs": [],
   "source": [
    "# Variable\n",
    "foo = \"\"\n",
    "bar = 20.3"
   ]
  },
  {
   "cell_type": "code",
   "execution_count": null,
   "metadata": {},
   "outputs": [],
   "source": [
    "# 문장의 범위\n",
    "big = \"\"\"This is\n",
    "a multi−line block\n",
    "of text; Python puts ... an end−of−line marker ... after each line. \"\"\""
   ]
  },
  {
   "cell_type": "code",
   "execution_count": null,
   "metadata": {},
   "outputs": [],
   "source": [
    "big"
   ]
  },
  {
   "cell_type": "code",
   "execution_count": null,
   "metadata": {},
   "outputs": [],
   "source": [
    "x = 34 - 23                   # 연산 표현식 대입\n",
    "y = \"Hello\"                   # 문자열 대입\n",
    "z = 3.14                      # 실수 대입\n",
    "if z == 3.14 or y == \"Hello\": # 비교\n",
    "    x = x + 1                 # 연산\n",
    "    y = y + \" World\"          # 문자열 합치기"
   ]
  },
  {
   "cell_type": "code",
   "execution_count": null,
   "metadata": {
    "tags": []
   },
   "outputs": [],
   "source": [
    "print(x)    #11\n",
    "print(y)    #Hello"
   ]
  },
  {
   "cell_type": "markdown",
   "metadata": {},
   "source": [
    "### 주석\n",
    "\n",
    "```python\n",
    "results = []\n",
    "for line in file_handle:\n",
    "    # keep the empty lines for now\n",
    "    # if len(line) == 0:\n",
    "    #   continue\n",
    "    results.append(line.replace('foo', 'bar'))\n",
    " ```"
   ]
  },
  {
   "cell_type": "markdown",
   "metadata": {},
   "source": [
    "## 예약어와 객체 이름\n",
    "\n",
    "- 파이썬 언어에서는 키워드로 사용할 단어가 정해져 있다.\n",
    "- 키워드 이외 단어로 변수로 선언할 수 있다."
   ]
  },
  {
   "cell_type": "markdown",
   "metadata": {},
   "source": [
    "#### 예약어\n",
    "\n",
    "예약어는 파이썬 언어에서 사용하는 키워드\n"
   ]
  },
  {
   "cell_type": "code",
   "execution_count": null,
   "metadata": {},
   "outputs": [],
   "source": [
    "import keyword\n",
    "\n",
    "print(\"예약어 목록:\", keyword.kwlist)\n",
    "print(\"예약어 갯수:\", len(keyword.kwlist))"
   ]
  },
  {
   "cell_type": "markdown",
   "metadata": {},
   "source": [
    "#### 객체 식별자\n",
    "\n",
    " - 프로그램을 작성할 때 특정 값을 보관하는 영역을 지정 \n",
    " - 예약어를 제외한 이름으로 지정\n",
    " - 숫자로 시작할 수 없다\n",
    " - 변수는 문자, 숫자, `_`로 구성\n",
    " - 첫글자는 문자와 `_` 만 올 수 있다."
   ]
  },
  {
   "cell_type": "code",
   "execution_count": null,
   "metadata": {},
   "outputs": [],
   "source": [
    "_test = 10\n",
    "test = 10"
   ]
  },
  {
   "cell_type": "markdown",
   "metadata": {},
   "source": [
    "#### 파이썬 커뮤니티는 이름을 다음 같이 권장:\n",
    "\n",
    "- 함수, 메서드, 속성은 under_lower 같이 선언.\n",
    "- 상수는 under_lower 혹은 대문자 - ALL_CAPS\n",
    "- 클래스는 캠멜 형태 - ThisIsClass \n",
    "- 애트리뷰트 - interface, _internal, __private\n"
   ]
  },
  {
   "attachments": {
    "9391263b-51eb-469f-8e2b-417d62e8ef98.png": {
     "image/png": "[encoded data removed]"
    }
   },
   "cell_type": "markdown",
   "metadata": {},
   "source": [
    "## 데이터 모델\n",
    "\n",
    "\n",
    "<img src='attachment:9391263b-51eb-469f-8e2b-417d62e8ef98.png' width=400>"
   ]
  },
  {
   "cell_type": "markdown",
   "metadata": {},
   "source": [
    "### 동적 타이핑\n",
    "\n",
    "동적 타이"
   ]
  },
  {
   "cell_type": "code",
   "execution_count": null,
   "metadata": {},
   "outputs": [],
   "source": [
    "friend = 3\n",
    "friend = \"Nam\""
   ]
  },
  {
   "cell_type": "markdown",
   "metadata": {},
   "source": [
    "### 정적 타이핑 지원\n",
    "\n",
    "Python 3.6 이후 식별자의 형식을 지정하기 위해서 `:` 다음에 형식을 지정하지만, 어노테이션으로 처리된다."
   ]
  },
  {
   "cell_type": "code",
   "execution_count": null,
   "metadata": {},
   "outputs": [],
   "source": [
    "friend : int = 100"
   ]
  },
  {
   "cell_type": "code",
   "execution_count": null,
   "metadata": {},
   "outputs": [],
   "source": [
    "friend"
   ]
  },
  {
   "cell_type": "code",
   "execution_count": null,
   "metadata": {},
   "outputs": [],
   "source": [
    "type(friend)"
   ]
  },
  {
   "cell_type": "code",
   "execution_count": null,
   "metadata": {},
   "outputs": [],
   "source": [
    "friend = \"안녕하세요\"\n",
    "friend"
   ]
  },
  {
   "cell_type": "markdown",
   "metadata": {},
   "source": [
    "유니코드 기반의 변수명도 사용 가능\n",
    "  - 권장하지 않음\n"
   ]
  },
  {
   "cell_type": "code",
   "execution_count": null,
   "metadata": {},
   "outputs": [],
   "source": [
    "가격 = 120000\n",
    "print(가격 + 가격 * 0.1)"
   ]
  },
  {
   "attachments": {
    "520288ec-d58f-4737-9836-b0d77d45a73a.png": {
     "image/png": "[encoded data removed]"
    }
   },
   "cell_type": "markdown",
   "metadata": {},
   "source": [
    "### 객체 속성과 메서드\n",
    "\n",
    "![image.png](attachment:520288ec-d58f-4737-9836-b0d77d45a73a.png)\n",
    " - jupyter notebook의 cell에서 `.` 뒤에 tab"
   ]
  },
  {
   "cell_type": "code",
   "execution_count": null,
   "metadata": {},
   "outputs": [],
   "source": [
    "hello = 100\n",
    "hello."
   ]
  },
  {
   "cell_type": "code",
   "execution_count": null,
   "metadata": {},
   "outputs": [],
   "source": [
    "getattr(hello, '__str__')"
   ]
  },
  {
   "cell_type": "markdown",
   "metadata": {},
   "source": [
    "### import\n",
    "\n",
    "외부 모듈을 들여온다.\n",
    "\n",
    "```python\n",
    "import numpy\n",
    "import numpy as np\n",
    "from numpy import ndarray\n",
    "```"
   ]
  },
  {
   "cell_type": "code",
   "execution_count": null,
   "metadata": {},
   "outputs": [],
   "source": []
  },
  {
   "cell_type": "markdown",
   "metadata": {},
   "source": [
    "### Gabage collection\n",
    "\n",
    "파이썬 Garbage Collection은 사용하지 않는 대입을 자동으로 관리해 준다."
   ]
  },
  {
   "cell_type": "code",
   "execution_count": null,
   "metadata": {},
   "outputs": [],
   "source": [
    "a = b = c = 5\n",
    "a, b, c"
   ]
  },
  {
   "cell_type": "code",
   "execution_count": null,
   "metadata": {},
   "outputs": [],
   "source": [
    "del a"
   ]
  },
  {
   "cell_type": "code",
   "execution_count": null,
   "metadata": {},
   "outputs": [],
   "source": [
    "b = 'a'\n",
    "c = 10"
   ]
  },
  {
   "cell_type": "code",
   "execution_count": null,
   "metadata": {},
   "outputs": [],
   "source": [
    "b, c"
   ]
  },
  {
   "cell_type": "code",
   "execution_count": null,
   "metadata": {},
   "outputs": [],
   "source": [
    "a"
   ]
  },
  {
   "cell_type": "code",
   "execution_count": null,
   "metadata": {},
   "outputs": [],
   "source": []
  },
  {
   "cell_type": "markdown",
   "metadata": {},
   "source": [
    "# Scala Types\n",
    " - 수치, 문자형 리터럴"
   ]
  },
  {
   "cell_type": "markdown",
   "metadata": {},
   "source": [
    "## 수치형\n",
    "\n",
    " - int (부호있는 정수)\n",
    " - long (int 보다 긴 정수, 8, 16 진수 표현가능)\n",
    " - float (부동소수점이 있는 실수)\n",
    " - complex (복소수)\n",
    " - P3에서 long이 int로 표현\n",
    "\n",
    "\n",
    "```python\n",
    "int_var1 = 1\n",
    "int_var2 = -10\n",
    "\n",
    "long_var1 = 122\n",
    "long_var2 = -0x19323\n",
    "\n",
    "float_var1 = 15.20\n",
    "float_var2 = 70.2-1E12\n",
    "\n",
    "complex_var1 = 3.14j\n",
    "complex_var2 = 4.53e1-7j\n",
    "```"
   ]
  },
  {
   "cell_type": "markdown",
   "metadata": {},
   "source": [
    "#### 정수형"
   ]
  },
  {
   "cell_type": "code",
   "execution_count": null,
   "metadata": {
    "scrolled": true
   },
   "outputs": [],
   "source": [
    "#Integers\n",
    "e = 10\n",
    "f = 20\n",
    "g = e + f\n",
    "print(g)\n",
    "\n",
    "type(g)"
   ]
  },
  {
   "cell_type": "markdown",
   "metadata": {},
   "source": [
    "P3에서 long이 int로 표현"
   ]
  },
  {
   "cell_type": "code",
   "execution_count": null,
   "metadata": {},
   "outputs": [],
   "source": [
    "# long integer\n",
    "a = 12345L"
   ]
  },
  {
   "cell_type": "code",
   "execution_count": null,
   "metadata": {},
   "outputs": [],
   "source": [
    "# Again int\n",
    "e = 10\n",
    "f = 20\n",
    "g = e + f\n",
    "g"
   ]
  },
  {
   "cell_type": "markdown",
   "metadata": {},
   "source": [
    "#### 실수형"
   ]
  },
  {
   "cell_type": "code",
   "execution_count": null,
   "metadata": {},
   "outputs": [],
   "source": [
    "# floating point\n",
    "pi = 3.14159\n",
    "type(pi)"
   ]
  },
  {
   "cell_type": "markdown",
   "metadata": {},
   "source": [
    "### 지수 표현"
   ]
  },
  {
   "cell_type": "code",
   "execution_count": null,
   "metadata": {},
   "outputs": [],
   "source": [
    "e = 3e3\n",
    "d = -2.12E-5\n",
    "print(e, d)\n",
    "\n",
    "# is_integer() : 값의 모양이 정수 형태인가 확인\n",
    "# 타입 체크는 아니고 형태 판별 메서드\n",
    "print(a, type(a), \"는 정수형태?\", a.is_integer())\n",
    "print(c, type(c), \"는 정수형태?\", c.is_integer())`"
   ]
  },
  {
   "cell_type": "markdown",
   "metadata": {},
   "source": [
    "#### 기타"
   ]
  },
  {
   "cell_type": "code",
   "execution_count": null,
   "metadata": {},
   "outputs": [],
   "source": [
    "# Octal\n",
    "012         # 8+2"
   ]
  },
  {
   "cell_type": "code",
   "execution_count": null,
   "metadata": {},
   "outputs": [],
   "source": [
    "023 #Octal"
   ]
  },
  {
   "cell_type": "code",
   "execution_count": null,
   "metadata": {},
   "outputs": [],
   "source": [
    "type(023)"
   ]
  },
  {
   "cell_type": "code",
   "execution_count": null,
   "metadata": {},
   "outputs": [],
   "source": [
    "# Hex\n",
    "0x3A        # 3*16"
   ]
  },
  {
   "cell_type": "code",
   "execution_count": null,
   "metadata": {},
   "outputs": [],
   "source": [
    "type(0x3A)"
   ]
  },
  {
   "cell_type": "markdown",
   "metadata": {},
   "source": [
    "### Complex"
   ]
  },
  {
   "cell_type": "code",
   "execution_count": null,
   "metadata": {},
   "outputs": [],
   "source": [
    "# complex\n",
    "3+4j"
   ]
  },
  {
   "cell_type": "code",
   "execution_count": null,
   "metadata": {},
   "outputs": [],
   "source": [
    "print(complex(3, 4)) # 실수부 3, 허수부 4"
   ]
  },
  {
   "cell_type": "code",
   "execution_count": null,
   "metadata": {},
   "outputs": [],
   "source": [
    "print(3+4J, \"의 실수부:\", 3+4J.real)\n",
    "print(3+4j, \"의 허수부:\", 3+4j.imag) # 허수부\n",
    "print(3+4J, \"의 켤레 복소수:\", 3+4J.conjugate())"
   ]
  },
  {
   "cell_type": "code",
   "execution_count": null,
   "metadata": {},
   "outputs": [],
   "source": [
    "5.0+2.5J"
   ]
  },
  {
   "cell_type": "code",
   "execution_count": null,
   "metadata": {},
   "outputs": [],
   "source": [
    "type(4j)"
   ]
  },
  {
   "cell_type": "markdown",
   "metadata": {},
   "source": [
    "#### 수치자료형 한계\n"
   ]
  },
  {
   "cell_type": "code",
   "execution_count": null,
   "metadata": {},
   "outputs": [],
   "source": [
    "import sys\n",
    "sys.maxsize"
   ]
  },
  {
   "cell_type": "markdown",
   "metadata": {},
   "source": [
    "#### 숫자형 내장 함수"
   ]
  },
  {
   "cell_type": "code",
   "execution_count": null,
   "metadata": {},
   "outputs": [],
   "source": [
    "print(\"절댓값:\", abs(-3))\n",
    "print(\"정수 변환 함수:\", int(\"3\"))\n",
    "print(\"실수 변환 함수:\", float(\"3.14159\"))\n",
    "print(\"복소수 행성 함수:\", complex(5, 3))\n",
    "\n",
    "# 정수 나눗셈의 몫과 나머지\n",
    "res = divmod(7, 3) # 7을 3으로 나눈 몫과 나머지\n",
    "print(res, \"is\", type(res))\n",
    "\n",
    "print(\"제곱 함수:\", pow(3, 10)) # 3의 10승 -> **"
   ]
  },
  {
   "cell_type": "code",
   "execution_count": null,
   "metadata": {},
   "outputs": [],
   "source": [
    "print(abs(-2.0))           # 절대 값\n",
    "# 자료형 int(), long(), float()\n",
    "print(int(20.4))           # 정수\n",
    "print(float(1))\n"
   ]
  },
  {
   "cell_type": "markdown",
   "metadata": {},
   "source": [
    "복잡한 삼각 함수, 지수, 로그 등은  math 모듈 안쪽에 있다"
   ]
  },
  {
   "cell_type": "code",
   "execution_count": null,
   "metadata": {},
   "outputs": [],
   "source": [
    "import math, cmath\n",
    "dir(math)\n",
    "dir(cmath)"
   ]
  },
  {
   "cell_type": "markdown",
   "metadata": {},
   "source": [
    "## Boolean\n",
    "\n",
    "불(bool) 자료형이란 참(True)과 거짓(False)을 나타내는 자료형이다. 불 자료형은 다음의 2가지 값만을 가질 수 있다.\n",
    "\n",
    " - `True` : 참\n",
    " - `False` : 거짓\n",
    " \n",
    "`True`나 `False`는 파이썬의 예약어로 첫 문자를 항상 대문자로 사용해야 한다."
   ]
  },
  {
   "cell_type": "code",
   "execution_count": null,
   "metadata": {},
   "outputs": [],
   "source": [
    "a = True\n",
    "b = False\n",
    "a == b"
   ]
  },
  {
   "cell_type": "code",
   "execution_count": null,
   "metadata": {},
   "outputs": [],
   "source": [
    "3 > 1, 0 == 1, -1 <= 0"
   ]
  },
  {
   "cell_type": "markdown",
   "metadata": {},
   "source": [
    "### 자료형의 Boolean 비교\n",
    "\n",
    "일반 자료형에 대해서 비교연산, 반복 조건 등에 따라 참.거짓을 사용하게 된다."
   ]
  },
  {
   "cell_type": "code",
   "execution_count": null,
   "metadata": {},
   "outputs": [],
   "source": [
    "a = [1, 2, 3, 4]\n",
    "while a:\n",
    "    print(a.pop())"
   ]
  },
  {
   "cell_type": "markdown",
   "metadata": {},
   "source": [
    "hello 객체가 비어있지 않다면 일을 처리한다"
   ]
  },
  {
   "cell_type": "code",
   "execution_count": null,
   "metadata": {
    "scrolled": true
   },
   "outputs": [],
   "source": [
    "hello = \"안녕하세요\"\n",
    "if hello:\n",
    "    print(\"hello\")\n",
    "else:\n",
    "    print(\"Oooops\")"
   ]
  },
  {
   "cell_type": "markdown",
   "metadata": {},
   "source": [
    "hello 요소가 존재하는 동안 다음 요소를 사용한다."
   ]
  },
  {
   "cell_type": "code",
   "execution_count": null,
   "metadata": {},
   "outputs": [],
   "source": [
    "hello = \"안녕하세요\"\n",
    "for c in hello:\n",
    "    print(c)"
   ]
  },
  {
   "cell_type": "markdown",
   "metadata": {},
   "source": [
    "### Boolean operation\n",
    "\n",
    "`bool(item)`내장 함수를 사용하면 주어진 자료의 참.거짓을 알 수 있다."
   ]
  },
  {
   "cell_type": "code",
   "execution_count": null,
   "metadata": {},
   "outputs": [],
   "source": [
    "bool([1])"
   ]
  },
  {
   "cell_type": "code",
   "execution_count": null,
   "metadata": {},
   "outputs": [],
   "source": [
    "bool(\"하하하\")"
   ]
  },
  {
   "cell_type": "markdown",
   "metadata": {},
   "source": [
    "연산규칙은?"
   ]
  },
  {
   "cell_type": "code",
   "execution_count": null,
   "metadata": {},
   "outputs": [],
   "source": [
    "bool(\"하하하\") * bool([])"
   ]
  },
  {
   "cell_type": "markdown",
   "metadata": {},
   "source": [
    "## 문자열 사용"
   ]
  },
  {
   "cell_type": "markdown",
   "metadata": {},
   "source": [
    "a = 'one way of writing a string'\n",
    "b = \"another way\""
   ]
  },
  {
   "cell_type": "code",
   "execution_count": null,
   "metadata": {},
   "outputs": [],
   "source": [
    "c = \"\"\"\n",
    "This is a longer string that\n",
    "spans multiple lines\n",
    "\"\"\""
   ]
  },
  {
   "cell_type": "code",
   "execution_count": null,
   "metadata": {},
   "outputs": [],
   "source": [
    "c.count('\\n')"
   ]
  },
  {
   "cell_type": "code",
   "execution_count": null,
   "metadata": {},
   "outputs": [],
   "source": [
    "a = 'this is a string'\n",
    "\n",
    "a"
   ]
  },
  {
   "cell_type": "markdown",
   "metadata": {},
   "source": [
    "불변형 시퀀스 객체"
   ]
  },
  {
   "cell_type": "code",
   "execution_count": null,
   "metadata": {},
   "outputs": [],
   "source": [
    "a[10] = 'f'"
   ]
  },
  {
   "cell_type": "code",
   "execution_count": null,
   "metadata": {},
   "outputs": [],
   "source": [
    "b = a.replace('string', 'longer string')\n",
    "b"
   ]
  },
  {
   "cell_type": "code",
   "execution_count": null,
   "metadata": {},
   "outputs": [],
   "source": [
    "a = 5.6\n",
    "s = str(a)\n",
    "print(s)"
   ]
  },
  {
   "cell_type": "code",
   "execution_count": null,
   "metadata": {},
   "outputs": [],
   "source": [
    "s = 'python'\n",
    "list(s)\n",
    "s[:3]"
   ]
  },
  {
   "cell_type": "code",
   "execution_count": null,
   "metadata": {},
   "outputs": [],
   "source": [
    "s = '12\\\\34'\n",
    "print(s)"
   ]
  },
  {
   "cell_type": "code",
   "execution_count": null,
   "metadata": {},
   "outputs": [],
   "source": [
    "s = r'this\\has\\no\\special\\characters'\n",
    "s"
   ]
  },
  {
   "cell_type": "code",
   "execution_count": null,
   "metadata": {},
   "outputs": [],
   "source": [
    "a = 'this is the first half '\n",
    "b = 'and this is the second half'\n",
    "a + b"
   ]
  },
  {
   "cell_type": "code",
   "execution_count": null,
   "metadata": {},
   "outputs": [],
   "source": [
    "template = '{0:.2f} {1:s} are worth US${2:d}'"
   ]
  },
  {
   "cell_type": "code",
   "execution_count": null,
   "metadata": {},
   "outputs": [],
   "source": [
    "template.format(4.5560, 'Argentine Pesos', 1)"
   ]
  },
  {
   "cell_type": "code",
   "execution_count": null,
   "metadata": {},
   "outputs": [],
   "source": [
    "# f literal\n",
    "f'{4.5560:.2f} Argentine Pesos are worth US${1:d}'"
   ]
  },
  {
   "cell_type": "markdown",
   "metadata": {},
   "source": [
    "#### Bytes and Unicode"
   ]
  },
  {
   "cell_type": "code",
   "execution_count": null,
   "metadata": {},
   "outputs": [],
   "source": [
    "val = \"español\"\n",
    "val"
   ]
  },
  {
   "cell_type": "code",
   "execution_count": null,
   "metadata": {},
   "outputs": [],
   "source": [
    "val_utf8 = val.encode('utf-8')\n",
    "val_utf8\n",
    "type(val_utf8)"
   ]
  },
  {
   "cell_type": "code",
   "execution_count": null,
   "metadata": {},
   "outputs": [],
   "source": [
    "val_utf8.decode('utf-8')"
   ]
  },
  {
   "cell_type": "code",
   "execution_count": null,
   "metadata": {},
   "outputs": [],
   "source": [
    "val.encode('latin1')\n",
    "val.encode('utf-16')\n",
    "val.encode('utf-16le')"
   ]
  },
  {
   "cell_type": "code",
   "execution_count": null,
   "metadata": {},
   "outputs": [],
   "source": [
    "bytes_val = b'this is bytes'\n",
    "bytes_val\n",
    "decoded = bytes_val.decode('utf8')\n",
    "decoded  # this is str (Unicode) now"
   ]
  },
  {
   "cell_type": "code",
   "execution_count": null,
   "metadata": {},
   "outputs": [],
   "source": []
  },
  {
   "cell_type": "code",
   "execution_count": null,
   "metadata": {},
   "outputs": [],
   "source": []
  },
  {
   "cell_type": "markdown",
   "metadata": {},
   "source": [
    "## Type casting"
   ]
  },
  {
   "cell_type": "code",
   "execution_count": null,
   "metadata": {},
   "outputs": [],
   "source": [
    "s = '3.14159'\n",
    "fval = float(s)\n",
    "type(fval)\n",
    "int(fval)\n",
    "bool(fval)\n",
    "bool(0)"
   ]
  },
  {
   "cell_type": "markdown",
   "metadata": {},
   "source": [
    "#### None"
   ]
  },
  {
   "cell_type": "code",
   "execution_count": null,
   "metadata": {},
   "outputs": [],
   "source": [
    "a = None\n",
    "a is None"
   ]
  },
  {
   "cell_type": "code",
   "execution_count": null,
   "metadata": {},
   "outputs": [],
   "source": [
    "b = 5\n",
    "b is not None"
   ]
  },
  {
   "cell_type": "code",
   "execution_count": null,
   "metadata": {},
   "outputs": [],
   "source": [
    "type(None)"
   ]
  },
  {
   "cell_type": "markdown",
   "metadata": {},
   "source": [
    "## Dates and times"
   ]
  },
  {
   "cell_type": "code",
   "execution_count": null,
   "metadata": {},
   "outputs": [],
   "source": [
    "from datetime import datetime, date, time\n",
    "\n",
    "dt = datetime(2011, 10, 29, 20, 30, 21)\n",
    "dt.day\n",
    "dt.minute"
   ]
  },
  {
   "cell_type": "code",
   "execution_count": null,
   "metadata": {},
   "outputs": [],
   "source": [
    "dt.date()\n",
    "dt.time()"
   ]
  },
  {
   "cell_type": "code",
   "execution_count": null,
   "metadata": {},
   "outputs": [],
   "source": [
    "dt.strftime('%m/%d/%Y %H:%M')"
   ]
  },
  {
   "cell_type": "code",
   "execution_count": null,
   "metadata": {},
   "outputs": [],
   "source": [
    "datetime.strptime('20091031', '%Y%m%d')"
   ]
  },
  {
   "cell_type": "code",
   "execution_count": null,
   "metadata": {},
   "outputs": [],
   "source": [
    "dt.replace(minute=0, second=0)"
   ]
  },
  {
   "cell_type": "code",
   "execution_count": null,
   "metadata": {},
   "outputs": [],
   "source": [
    "dt2 = datetime(2011, 11, 15, 22, 30)\n",
    "delta = dt2 - dt\n",
    "delta\n",
    "type(delta)"
   ]
  },
  {
   "cell_type": "code",
   "execution_count": null,
   "metadata": {},
   "outputs": [],
   "source": [
    "dt\n",
    "dt + delta"
   ]
  },
  {
   "cell_type": "markdown",
   "metadata": {},
   "source": [
    "# type check\n",
    "\n",
    "1. o 가 정확히 str인지 확인\n",
    "\n",
    "```\n",
    "type(o) is str\n",
    "```\n",
    "\n",
    "2. o가 str의 인스턴스이거나 subclass인지 확인(표준적인 방법)\n",
    "\n",
    "isinstance(o, str)\n",
    "\n",
    "3. o가 str의 subclass인지 확인\n",
    "\n",
    "issubclass(type(o), str)\n",
    "type(o) in ([str] + str.__subclasses__())\n",
    "4. unicode 스트링도 포함할 경우\n",
    "\n",
    "unicode string은 str의 usbclass가 아니기 때문에 이 경우도 포함해야 할 경우는\n",
    "\n",
    "isinstance(o, basestring) # str과 unicode 모두 basestring의 subclass임을 이용\n",
    "isinstance(o, (str, unicode)) #isinstance가 tuple을 허용하는 것을 이용\n"
   ]
  },
  {
   "cell_type": "code",
   "execution_count": null,
   "metadata": {},
   "outputs": [],
   "source": [
    "a = 10\n",
    "type(a)"
   ]
  },
  {
   "cell_type": "code",
   "execution_count": null,
   "metadata": {},
   "outputs": [],
   "source": [
    "a = 100.0\n",
    "type(a)"
   ]
  },
  {
   "cell_type": "code",
   "execution_count": null,
   "metadata": {},
   "outputs": [],
   "source": [
    "a = 100+4j\n",
    "type(a)"
   ]
  },
  {
   "cell_type": "code",
   "execution_count": null,
   "metadata": {},
   "outputs": [],
   "source": [
    "a = 0b10101\n",
    "type(a)"
   ]
  },
  {
   "cell_type": "code",
   "execution_count": null,
   "metadata": {},
   "outputs": [],
   "source": [
    "a = 0xF4\n",
    "type(a)"
   ]
  },
  {
   "cell_type": "code",
   "execution_count": null,
   "metadata": {},
   "outputs": [],
   "source": [
    "a = b'010101'\n",
    "type(a)"
   ]
  },
  {
   "cell_type": "code",
   "execution_count": null,
   "metadata": {},
   "outputs": [],
   "source": []
  },
  {
   "cell_type": "markdown",
   "metadata": {},
   "source": [
    "# Operators\n",
    "\n",
    "1. 사칙연산자\n",
    "1. 제곱\n",
    "1. 복합대입\n",
    "1. bit wise operator\n",
    "1. 논리연산자"
   ]
  },
  {
   "cell_type": "markdown",
   "metadata": {},
   "source": [
    "### 사칙연산\n",
    "\n",
    "`+, -, *, /, //, %`\n",
    "\n",
    "integers 는 "
   ]
  },
  {
   "cell_type": "code",
   "execution_count": null,
   "metadata": {},
   "outputs": [],
   "source": [
    "1+1"
   ]
  },
  {
   "cell_type": "code",
   "execution_count": null,
   "metadata": {},
   "outputs": [],
   "source": [
    "2-1"
   ]
  },
  {
   "cell_type": "code",
   "execution_count": null,
   "metadata": {},
   "outputs": [],
   "source": [
    "1.0-1"
   ]
  },
  {
   "cell_type": "markdown",
   "metadata": {},
   "source": [
    "floats 의 사칙연산은 소수점 아래 버린다."
   ]
  },
  {
   "cell_type": "code",
   "execution_count": null,
   "metadata": {},
   "outputs": [],
   "source": [
    "1.0-1"
   ]
  },
  {
   "cell_type": "code",
   "execution_count": null,
   "metadata": {},
   "outputs": [],
   "source": [
    "1.0/2.0"
   ]
  },
  {
   "cell_type": "code",
   "execution_count": null,
   "metadata": {},
   "outputs": [],
   "source": [
    "5/3"
   ]
  },
  {
   "cell_type": "code",
   "execution_count": null,
   "metadata": {},
   "outputs": [],
   "source": [
    "5//3"
   ]
  },
  {
   "cell_type": "code",
   "execution_count": null,
   "metadata": {},
   "outputs": [],
   "source": [
    "5 % 3"
   ]
  },
  {
   "cell_type": "markdown",
   "metadata": {},
   "source": [
    "### 제곱 연산자\n"
   ]
  },
  {
   "cell_type": "code",
   "execution_count": null,
   "metadata": {
    "tags": []
   },
   "outputs": [],
   "source": [
    "# x의 y제곱을 나타내는 ** 연산자\n",
    "x = 10\n",
    "y = 5\n",
    "x ** y"
   ]
  },
  {
   "cell_type": "code",
   "execution_count": null,
   "metadata": {},
   "outputs": [],
   "source": [
    "# 제곱 ** 혹은 pow 연산 함수로\n",
    "print(\"7의 3승:\", 7 ** 3)\n",
    "print(\"7의 3승:\", pow(7, 3)) # 연산 함수"
   ]
  },
  {
   "cell_type": "code",
   "execution_count": null,
   "metadata": {},
   "outputs": [],
   "source": [
    "# 관계 연산자: >,<,>=,<=,==,!=\n",
    "# 참이면 1, 거짓이면 0\n",
    "1 > 0, 0 < 1, 1 != 2"
   ]
  },
  {
   "cell_type": "code",
   "execution_count": null,
   "metadata": {},
   "outputs": [],
   "source": [
    "# 논리 연산자: not, and, or\n",
    "# 진리 값이 참이면 1, 거짓이면 0\n",
    "print(not 1, not 0)\n",
    "print(1 and 0)\n",
    "print(1 or 0)"
   ]
  },
  {
   "cell_type": "markdown",
   "metadata": {},
   "source": [
    "## Bitwise operators\n",
    "\n",
    "비트 연산자는 `&,|,^,~,<<,>>` 가 있다.\n",
    "\n",
    "\n",
    "```python\n",
    "<< : binary left shift\n",
    ">> : binary right shift\n",
    "&   : binary and\n",
    "|    : binary or\n",
    "^    : binary xor\n",
    "~    : binary one's comlement\n",
    "```"
   ]
  },
  {
   "cell_type": "code",
   "execution_count": null,
   "metadata": {},
   "outputs": [],
   "source": [
    "1 << 3 #8: 0001 -> 1000"
   ]
  },
  {
   "cell_type": "code",
   "execution_count": null,
   "metadata": {},
   "outputs": [],
   "source": [
    "32 >> 5 #1: 100000 -> 0001"
   ]
  },
  {
   "cell_type": "code",
   "execution_count": null,
   "metadata": {},
   "outputs": [],
   "source": [
    "bits = 0b1\n",
    "print(bin(bits))"
   ]
  },
  {
   "cell_type": "markdown",
   "metadata": {},
   "source": [
    "#### `<<, >>` : 쉬프트 연산자"
   ]
  },
  {
   "cell_type": "code",
   "execution_count": null,
   "metadata": {},
   "outputs": [],
   "source": [
    "print( 2 << 1) # 0010 -> 0100\n",
    "print( 2 >> 1) # 0010 -> 0001"
   ]
  },
  {
   "cell_type": "code",
   "execution_count": null,
   "metadata": {},
   "outputs": [],
   "source": [
    "# bits를 1비트 왼쪽으로 shift\n",
    "print(\"bits << 1:\", bin(bits << 1))\n",
    "print(\"bits << 4:\", bin(bits << 4))"
   ]
  },
  {
   "cell_type": "code",
   "execution_count": null,
   "metadata": {},
   "outputs": [],
   "source": [
    "bits = 0b1000\n",
    "print(bin(bits))\n",
    "# bits를 2비트 우측으로 shift\n",
    "print(\"bits >> 2:\", bin(bits >> 2))"
   ]
  },
  {
   "cell_type": "code",
   "execution_count": null,
   "metadata": {},
   "outputs": [],
   "source": [
    "bits = 0b10101010\n",
    "print(\"bits:\", bin(bits))\n",
    "\n",
    "mask = 0b11001100\n",
    "print(\"bits & mask:\", bin(bits & mask))\n",
    "print(\"bits | mask:\", bin(bits | mask))\n",
    "print(\"~ bits:\", bin(~bits))\n"
   ]
  },
  {
   "cell_type": "markdown",
   "metadata": {},
   "source": [
    "### bit 논리연산자\n",
    "\n",
    "- `&` : bit and\n",
    "- `^` : bit xor\n",
    "- `|`: bit or\n"
   ]
  },
  {
   "cell_type": "code",
   "execution_count": 103,
   "metadata": {},
   "outputs": [
    {
     "name": "stdout",
     "output_type": "stream",
     "text": [
      "0010 & 0001 : 0\n"
     ]
    }
   ],
   "source": [
    "print( \"0010 & 0001 : %d\" % (2 & 1)) # 0010 & 0001 -> 0000"
   ]
  },
  {
   "cell_type": "code",
   "execution_count": 104,
   "metadata": {},
   "outputs": [
    {
     "data": {
      "text/plain": [
       "2"
      ]
     },
     "execution_count": 104,
     "metadata": {},
     "output_type": "execute_result"
    }
   ],
   "source": [
    "a = 0b0000011\n",
    "b = 0b1100010\n",
    "\n",
    "c =  a & b\n",
    "c"
   ]
  },
  {
   "cell_type": "code",
   "execution_count": 106,
   "metadata": {},
   "outputs": [
    {
     "name": "stdout",
     "output_type": "stream",
     "text": [
      "0b10\n"
     ]
    }
   ],
   "source": [
    "print ( bin(c))   # a&b"
   ]
  },
  {
   "cell_type": "code",
   "execution_count": null,
   "metadata": {},
   "outputs": [],
   "source": [
    "print (\"or |   = \",  bin(a | b ))         # or\n",
    "print (\"xor ^  = \",  bin( a ^ b ))        # xor\n",
    "print (\"not ~  = \",  bin( ~a))            # not\n",
    "print (\"shift left = \",  bin(a << 2 ))    # shift left\n",
    "print (\"shift right = \", bin(a >> 2 ))    # shift right"
   ]
  },
  {
   "cell_type": "code",
   "execution_count": null,
   "metadata": {},
   "outputs": [],
   "source": [
    "256 & 255 #  10000000 & 11111111 = 0"
   ]
  },
  {
   "cell_type": "code",
   "execution_count": null,
   "metadata": {},
   "outputs": [],
   "source": [
    "print(\"{:b}\".format(256))"
   ]
  },
  {
   "cell_type": "code",
   "execution_count": null,
   "metadata": {},
   "outputs": [],
   "source": [
    "256 | 255 #  10000000 | 11111111 = 1 1111 1111"
   ]
  },
  {
   "cell_type": "markdown",
   "metadata": {},
   "source": [
    "### `^` 1의 보수 연산자\n",
    "\n",
    "`^`는 바이너리의 보수 연산을 수행한다. 다음은 2의 보수 연산을 수행한다.\n",
    "\n",
    "```python\n",
    "2^2 = \n",
    "```"
   ]
  },
  {
   "cell_type": "code",
   "execution_count": null,
   "metadata": {},
   "outputs": [],
   "source": [
    "2^2, 3^2"
   ]
  },
  {
   "cell_type": "code",
   "execution_count": null,
   "metadata": {},
   "outputs": [],
   "source": [
    "bin(60)"
   ]
  },
  {
   "cell_type": "code",
   "execution_count": null,
   "metadata": {},
   "outputs": [],
   "source": [
    "# ~ : 1의 보수\n",
    "print(~0, ~1, ~2)"
   ]
  },
  {
   "cell_type": "markdown",
   "metadata": {},
   "source": [
    "## 멤버십 연산자\n",
    "\n",
    "iterable 한 개체를 사용해서 해당 객체의 요소, 즉 멤버인지를 판단시 `in` 연산자를 사용한다."
   ]
  },
  {
   "cell_type": "code",
   "execution_count": null,
   "metadata": {},
   "outputs": [],
   "source": [
    "pets=['dog','cat','ferret']\n",
    "'fox' in pets"
   ]
  },
  {
   "cell_type": "code",
   "execution_count": null,
   "metadata": {},
   "outputs": [],
   "source": [
    "\"가방\" in \"아버지가 방에 들어가신다\", \"가방\" in \"아버지가방에 들어가신다\""
   ]
  },
  {
   "cell_type": "code",
   "execution_count": null,
   "metadata": {},
   "outputs": [],
   "source": [
    "\"가방\" not in \"아버지가 방에 들어가신다\""
   ]
  },
  {
   "cell_type": "markdown",
   "metadata": {},
   "source": [
    "## 비교(관계) 연산자\n",
    "\n",
    " - `==` (같다), `!=` (같지 않다)\n",
    " - `>, >=, <, <=`\n",
    " - 비교 연산을 수행하면 bool (논리값: True, False) 추출\n",
    " - 논리 연산자: and, or, not"
   ]
  },
  {
   "cell_type": "code",
   "execution_count": null,
   "metadata": {},
   "outputs": [],
   "source": [
    "print(\"7 > 3 ?\", 7 > 3)\n",
    "print(\"7 == 3 ?\", 7 == 3) # == 같다\n",
    "print(\"7 != 3 ?\", 7 != 3) # != 같지 않다\n",
    "\n",
    "# 복합 관계식\n",
    "a = 6\n",
    "print(a, \"가 0과 10 사이에 있는가?\", 0 <= a <= 10)\n",
    "\n",
    "# 문자열의 대소 비교\n",
    "s1 = \"Python\"\n",
    "s2 = \"Python\"\n",
    "\n",
    "# 두 개의 문자열이 같은가?\n",
    "print(\"s1과 s2가 같은가?\", s1 == s2)\n",
    "print(\"abc가 abd보다 큰가?\", \"abc\" > \"abd\")\n",
    "\n",
    "# 그 이외의 타입의 대소 비교\n",
    "print(\"(1, 2, 3)이 (1, 2, 4)보다 큰가?\",\n",
    "      (1, 2, 3) > (1, 2, 4))\n",
    "\n",
    "# == : 동질성의 비교, is : 동일성의 비교"
   ]
  },
  {
   "cell_type": "markdown",
   "metadata": {},
   "source": [
    "## 논리 연산자\n",
    "\n",
    "- not : 논리 부정 True <-> False\n",
    "- or : 논리합 - 둘 중의 하나만 True여도 True\n",
    "-and : 논리곱 - 둘 모두 True여야 True\n"
   ]
  },
  {
   "cell_type": "code",
   "execution_count": null,
   "metadata": {},
   "outputs": [],
   "source": [
    "# 논리값\n",
    "a = 6\n",
    "a > 0"
   ]
  },
  {
   "cell_type": "code",
   "execution_count": null,
   "metadata": {},
   "outputs": [],
   "source": [
    "a < 10"
   ]
  },
  {
   "cell_type": "markdown",
   "metadata": {},
   "source": [
    "논리 연산자는 비교/관계 연산자를 복합적으로 묶는다."
   ]
  },
  {
   "cell_type": "code",
   "execution_count": null,
   "metadata": {},
   "outputs": [],
   "source": [
    "# 두 개의 조건을 and로 조합\n",
    "a > 0 and a < 10"
   ]
  },
  {
   "cell_type": "code",
   "execution_count": null,
   "metadata": {},
   "outputs": [],
   "source": [
    "0 < a < 10"
   ]
  },
  {
   "cell_type": "code",
   "execution_count": null,
   "metadata": {},
   "outputs": [],
   "source": [
    "a <= 0 or a >= 10"
   ]
  },
  {
   "cell_type": "code",
   "execution_count": null,
   "metadata": {},
   "outputs": [],
   "source": [
    "# not : 논리 부정\n",
    "not (0 < a < 10)"
   ]
  },
  {
   "cell_type": "markdown",
   "metadata": {},
   "source": [
    "## 동일 연산자\n",
    "\n",
    "파이썬에는 개체 사이를 `is` `is not` 연산자로 양쪽 피연산자가 동일한지 테스트할 수 있다."
   ]
  },
  {
   "cell_type": "code",
   "execution_count": null,
   "metadata": {},
   "outputs": [],
   "source": [
    "2 is 20 # 스칼라 값의 비교?"
   ]
  },
  {
   "cell_type": "code",
   "execution_count": null,
   "metadata": {},
   "outputs": [],
   "source": [
    "'2' is \"2\"  # 같은 값?"
   ]
  },
  {
   "cell_type": "code",
   "execution_count": null,
   "metadata": {},
   "outputs": [],
   "source": [
    "a = 2\n",
    "b = 20\n",
    "\n",
    "a is b"
   ]
  },
  {
   "cell_type": "code",
   "execution_count": null,
   "metadata": {},
   "outputs": [],
   "source": [
    "b = 2\n",
    "\n",
    "a is b"
   ]
  },
  {
   "cell_type": "code",
   "execution_count": null,
   "metadata": {},
   "outputs": [],
   "source": [
    "a = None\n",
    "a is None"
   ]
  },
  {
   "cell_type": "markdown",
   "metadata": {},
   "source": [
    "#### `id()` \n",
    "\n",
    "객체의 아이텐티티 확인"
   ]
  },
  {
   "cell_type": "code",
   "execution_count": null,
   "metadata": {},
   "outputs": [],
   "source": [
    "id(a), id(b)"
   ]
  },
  {
   "cell_type": "markdown",
   "metadata": {},
   "source": [
    "---\n",
    "\n",
    "# Future statement\n",
    "\n",
    "future 구문은 컴파일러 지시자로 특정한 모듈이 파이썬 표준으로 릴리즈한 문법, 의미를 사용해 컴파일하게 한다.\n",
    "\n",
    "\n",
    "The future statement is intended to ease migration to future versions of Python that introduce incompatible changes to the language. It allows use of the new features on a per-module basis before the release in which the feature becomes standard.\n",
    "\n",
    "> https://docs.python.org/2/reference/simple_stmts.html#future\n",
    "> https://docs.python.org/3/reference/simple_stmts.html#future\n",
    "\n",
    "python 3.0에서는 The features recognized by Python 3.0 are absolute_import, division, generators, unicode_literals, print_function, nested_scopes and with_statement. \n",
    "\n",
    "import __future__ [as name]\n",
    "\n",
    "코드의 첫번째 줄에 있어야 한다\n",
    "\n",
    "다음은 python 2.6 이전 버전에서 Python3 의 print() 구문을 사용하려면\n",
    "\n",
    "```python\n",
    "from __future__ import print_function\n",
    "\n",
    "import sys, os, time\n",
    "\n",
    "for x in range(0,10):\n",
    "    print(x, sep=' ', end='')  # No need for sep here, but okay :)\n",
    "    time.sleep(1)\n",
    "```\n",
    "\n"
   ]
  },
  {
   "cell_type": "markdown",
   "metadata": {},
   "source": [
    "# Doc String\n",
    "\n",
    "[PEP 257 Docstring conventions](https://www.python.org/dev/peps/pep-0257/) 에 선언되 있다.\n",
    "\n",
    "https://docs.python.org/3.6/tutorial/controlflow.html#documentation-strings"
   ]
  },
  {
   "cell_type": "code",
   "execution_count": null,
   "metadata": {},
   "outputs": [],
   "source": [
    "def testDocstring():\n",
    "    \"\"\"This is docstring for function\"\"\"\n",
    "    pass"
   ]
  },
  {
   "cell_type": "markdown",
   "metadata": {},
   "source": [
    "독스트링은 `__doc__` 애트리뷰트로 참조할 수 있다."
   ]
  },
  {
   "cell_type": "code",
   "execution_count": null,
   "metadata": {},
   "outputs": [],
   "source": [
    "testDocstring.__doc__"
   ]
  },
  {
   "cell_type": "markdown",
   "metadata": {},
   "source": [
    "### 연습\n",
    "\n",
    "어떤 소스파일 TestMudole.py 에 클래스와 함수를 선언하며 독스트링을 생성해 보자"
   ]
  },
  {
   "cell_type": "code",
   "execution_count": null,
   "metadata": {},
   "outputs": [],
   "source": [
    "\"\"\"\n",
    "Assuming this is file mymodule.py, then this string, being the\n",
    "first statement in the file, will become the \"mymodule\" module's\n",
    "docstring when the file is imported.\n",
    "\"\"\"\n",
    " \n",
    "class MyClass(object):\n",
    "    \"\"\"The class's docstring\"\"\"\n",
    " \n",
    "    def my_method(self):\n",
    "        \"\"\"The method's docstring\"\"\"\n",
    "\n",
    "    def my_complex_method(self, i:\"시작\", j: \"개수. 초기값 0\"  = 0):\n",
    "        \"\"\"The method's docstring\"\"\"\n",
    "\n",
    "\n",
    "#function\n",
    "def my_function():\n",
    "    \"\"\"The function's docstring\"\"\""
   ]
  },
  {
   "cell_type": "markdown",
   "metadata": {},
   "source": [
    "모듈"
   ]
  },
  {
   "cell_type": "markdown",
   "metadata": {},
   "source": [
    "### **`help()`** 함수\n",
    "\n",
    "소스 파일 사이에 docstring 을 선언하면 `help()` 로 클래스 정보를 출력할 수 있다. TestModule.py 소스를 살펴보자"
   ]
  },
  {
   "cell_type": "code",
   "execution_count": null,
   "metadata": {},
   "outputs": [],
   "source": [
    "help(testDocstring())"
   ]
  },
  {
   "cell_type": "markdown",
   "metadata": {},
   "source": [
    "외부 모듈은 import후 정보를 볼 수 있다."
   ]
  },
  {
   "cell_type": "code",
   "execution_count": null,
   "metadata": {},
   "outputs": [],
   "source": [
    "import TestModule\n",
    "help(TestModule)"
   ]
  },
  {
   "cell_type": "markdown",
   "metadata": {},
   "source": [
    "모듈의 클래스 독스트링을 보려면"
   ]
  },
  {
   "cell_type": "code",
   "execution_count": null,
   "metadata": {},
   "outputs": [],
   "source": [
    "help(TestModule.MyClass)"
   ]
  },
  {
   "cell_type": "markdown",
   "metadata": {},
   "source": [
    "#### annotations\n",
    "\n",
    "함수 혹은 모듈 메서드의 인자를 참조할 수 있다.\n",
    "\n",
    "[PEP 3107 Function Annotations](https://www.python.org/dev/peps/pep-3107/) and [PEP 484 Type Hints](https://www.python.org/dev/peps/pep-0484/)"
   ]
  },
  {
   "cell_type": "code",
   "execution_count": null,
   "metadata": {},
   "outputs": [],
   "source": [
    "TestModule.MyClass.my_complex_method.__annotations__"
   ]
  },
  {
   "cell_type": "markdown",
   "metadata": {},
   "source": [
    "모듈의 함수 독스트링을 보려면"
   ]
  },
  {
   "cell_type": "code",
   "execution_count": null,
   "metadata": {},
   "outputs": [],
   "source": [
    "help(TestModule.my_function)"
   ]
  },
  {
   "cell_type": "markdown",
   "metadata": {},
   "source": [
    "---"
   ]
  },
  {
   "cell_type": "code",
   "execution_count": null,
   "metadata": {},
   "outputs": [],
   "source": []
  },
  {
   "cell_type": "markdown",
   "metadata": {},
   "source": [
    "## 객체의 참조와 복사\n",
    "\n",
    "스칼라 값과 객체의 차이를 살펴보자.\n",
    " - id() 함수를 이용하면 객체의 주소를 식별할 수 있다.\n"
   ]
  },
  {
   "cell_type": "code",
   "execution_count": null,
   "metadata": {},
   "outputs": [],
   "source": [
    "# 숫자 리터럴 (스칼라 값)\n",
    "i1 = 10\n",
    "i2 = 10\n",
    "\n",
    "hex(id(i1)), hex(id(i2))"
   ]
  },
  {
   "cell_type": "code",
   "execution_count": null,
   "metadata": {},
   "outputs": [],
   "source": [
    "i1 is i2"
   ]
  },
  {
   "cell_type": "code",
   "execution_count": null,
   "metadata": {},
   "outputs": [],
   "source": [
    "# 객체\n",
    "l1 = [1, 2, 3]\n",
    "l2 = [1, 2, 3]\n",
    "\n",
    "hex(id(l1)), hex(id(l2))"
   ]
  },
  {
   "cell_type": "code",
   "execution_count": null,
   "metadata": {},
   "outputs": [],
   "source": [
    "l1 is l2"
   ]
  },
  {
   "cell_type": "code",
   "execution_count": null,
   "metadata": {},
   "outputs": [],
   "source": [
    "# 문자열 리터럴\n",
    "s1 = 'hello'\n",
    "s2 = 'hello'\n",
    "hex(id(s1)), hex(id(s2))"
   ]
  },
  {
   "cell_type": "code",
   "execution_count": null,
   "metadata": {},
   "outputs": [],
   "source": [
    "s1 is s2"
   ]
  },
  {
   "cell_type": "markdown",
   "metadata": {},
   "source": [
    "### 얕은 복사\n",
    "\n",
    "객체의 복사"
   ]
  },
  {
   "cell_type": "code",
   "execution_count": null,
   "metadata": {},
   "outputs": [],
   "source": [
    "a = 1\n",
    "b = a\n",
    "a, b"
   ]
  },
  {
   "cell_type": "code",
   "execution_count": null,
   "metadata": {},
   "outputs": [],
   "source": [
    "id(a), id(b)"
   ]
  },
  {
   "cell_type": "code",
   "execution_count": null,
   "metadata": {},
   "outputs": [],
   "source": [
    "a = [1, 2, 3]\n",
    "b = [4, 5, a]\n",
    "a, b"
   ]
  },
  {
   "cell_type": "code",
   "execution_count": null,
   "metadata": {},
   "outputs": [],
   "source": [
    "x = [a, b, 100]\n",
    "y = x"
   ]
  },
  {
   "cell_type": "code",
   "execution_count": null,
   "metadata": {},
   "outputs": [],
   "source": [
    "x"
   ]
  },
  {
   "cell_type": "code",
   "execution_count": null,
   "metadata": {},
   "outputs": [],
   "source": [
    "x = [b, 100]"
   ]
  },
  {
   "cell_type": "code",
   "execution_count": null,
   "metadata": {},
   "outputs": [],
   "source": [
    "y"
   ]
  },
  {
   "cell_type": "markdown",
   "metadata": {},
   "source": [
    "### 깊은 복사\n",
    "\n",
    "copy 모듈을 이용한 복사\n"
   ]
  },
  {
   "cell_type": "code",
   "execution_count": null,
   "metadata": {},
   "outputs": [],
   "source": [
    "import copy\n",
    "\n",
    "a = [1, 2, 3]\n",
    "b = [4, 5, a]\n",
    "x = [a, b, 100]\n",
    "y = copy.deepcopy(x)"
   ]
  },
  {
   "cell_type": "code",
   "execution_count": null,
   "metadata": {},
   "outputs": [],
   "source": [
    "x"
   ]
  },
  {
   "cell_type": "code",
   "execution_count": null,
   "metadata": {},
   "outputs": [],
   "source": [
    "x = [b, 100]"
   ]
  },
  {
   "cell_type": "code",
   "execution_count": null,
   "metadata": {},
   "outputs": [],
   "source": [
    "y"
   ]
  },
  {
   "cell_type": "markdown",
   "metadata": {},
   "source": [
    "# Control Flow"
   ]
  },
  {
   "cell_type": "markdown",
   "metadata": {},
   "source": [
    "### if, elif, and else"
   ]
  },
  {
   "cell_type": "markdown",
   "metadata": {},
   "source": [
    "```python\n",
    "if x < 0:\n",
    "    print('It's negative')\n",
    "```"
   ]
  },
  {
   "cell_type": "markdown",
   "metadata": {},
   "source": [
    "if-elif-else"
   ]
  },
  {
   "cell_type": "markdown",
   "metadata": {},
   "source": [
    "```python\n",
    "if x < 0:\n",
    "    print('It's negative')\n",
    "elif x == 0:\n",
    "    print('Equal to zero')\n",
    "elif 0 < x < 5:\n",
    "    print('Positive but smaller than 5')\n",
    "else:\n",
    "    print('Positive and larger than or equal to 5')\n",
    "```"
   ]
  },
  {
   "cell_type": "code",
   "execution_count": null,
   "metadata": {},
   "outputs": [],
   "source": [
    "a = 5; b = 7\n",
    "c = 8; d = 4\n",
    "\n",
    "if a < b or c > d:\n",
    "    print('Made it')"
   ]
  },
  {
   "cell_type": "code",
   "execution_count": null,
   "metadata": {},
   "outputs": [],
   "source": [
    "4 > 3 > 2 > 1"
   ]
  },
  {
   "cell_type": "markdown",
   "metadata": {},
   "source": [
    "### for loops"
   ]
  },
  {
   "cell_type": "markdown",
   "metadata": {},
   "source": [
    "```python\n",
    "for value in collection:\n",
    "    # do something with value\n",
    "```"
   ]
  },
  {
   "cell_type": "markdown",
   "metadata": {},
   "source": [
    "#### continue, break"
   ]
  },
  {
   "cell_type": "markdown",
   "metadata": {},
   "source": [
    "```python\n",
    "sequence = [1, 2, None, 4, None, 5]\n",
    "total = 0\n",
    "for value in sequence:\n",
    "    if value is None:\n",
    "        continue\n",
    "    total += value\n",
    "```"
   ]
  },
  {
   "cell_type": "markdown",
   "metadata": {},
   "source": [
    "```python\n",
    "sequence = [1, 2, 0, 4, 6, 5, 2, 1]\n",
    "total_until_5 = 0\n",
    "for value in sequence:\n",
    "    if value == 5:\n",
    "        break\n",
    "    total_until_5 += value\n",
    "```"
   ]
  },
  {
   "cell_type": "code",
   "execution_count": null,
   "metadata": {},
   "outputs": [],
   "source": [
    "for i in range(4):\n",
    "    for j in range(4):\n",
    "        if j > i:\n",
    "            break\n",
    "        print((i, j))"
   ]
  },
  {
   "cell_type": "markdown",
   "metadata": {},
   "source": [
    "### while loops"
   ]
  },
  {
   "cell_type": "markdown",
   "metadata": {},
   "source": [
    "```python\n",
    "x = 256\n",
    "total = 0\n",
    "while x > 0:\n",
    "    if total > 500:\n",
    "        break\n",
    "    total += x\n",
    "    x = x // 2\n",
    "```"
   ]
  },
  {
   "cell_type": "markdown",
   "metadata": {},
   "source": [
    "### pass"
   ]
  },
  {
   "cell_type": "markdown",
   "metadata": {},
   "source": [
    "```python\n",
    "if x < 0:\n",
    "    print('negative!')\n",
    "elif x == 0:\n",
    "    # TODO: put something smart here\n",
    "    pass\n",
    "else:\n",
    "    print('positive!')\n",
    "```"
   ]
  },
  {
   "cell_type": "markdown",
   "metadata": {},
   "source": [
    "### range"
   ]
  },
  {
   "cell_type": "code",
   "execution_count": null,
   "metadata": {},
   "outputs": [],
   "source": [
    "range(10)\n",
    "list(range(10))"
   ]
  },
  {
   "cell_type": "code",
   "execution_count": null,
   "metadata": {},
   "outputs": [],
   "source": [
    "list(range(0, 20, 2))\n",
    "list(range(5, 0, -1))"
   ]
  },
  {
   "cell_type": "markdown",
   "metadata": {},
   "source": [
    "```python\n",
    "seq = [1, 2, 3, 4]\n",
    "for i in range(len(seq)):\n",
    "    val = seq[i]\n",
    "```"
   ]
  },
  {
   "cell_type": "markdown",
   "metadata": {},
   "source": [
    "```python\n",
    "sum = 0\n",
    "for i in range(100000):\n",
    "    # % is the modulo operator\n",
    "    if i % 3 == 0 or i % 5 == 0:\n",
    "        sum += i\n",
    "```"
   ]
  },
  {
   "cell_type": "markdown",
   "metadata": {},
   "source": [
    "#### Ternary expressions"
   ]
  },
  {
   "cell_type": "code",
   "execution_count": null,
   "metadata": {},
   "outputs": [],
   "source": [
    "x = 5\n",
    "'Non-negative' if x >= 0 else 'Negative'"
   ]
  },
  {
   "cell_type": "markdown",
   "metadata": {},
   "source": [
    "---"
   ]
  },
  {
   "cell_type": "markdown",
   "metadata": {},
   "source": [
    "#  Error와 Exception\n",
    "\n",
    "* 발생할 수 있는 오류와 예외처리를 확인해봅시다.\n",
    "\n",
    "1. Exception\n",
    "1. [Assertion](#assert)\n",
    "\n",
    "## 문법 에러(Syntax Error)\n",
    "\n",
    "* 가장 많이 만날 수 있는 에러로 발생한 `파일 이름`과 `줄`, `^`을 통해 파이썬이 읽어 들일 때(parser)의 문제 발생 위치를 표현한다."
   ]
  },
  {
   "cell_type": "code",
   "execution_count": null,
   "metadata": {},
   "outputs": [],
   "source": [
    "# if문을 통해 발생시켜봅시다!\n",
    "if 10 > 20"
   ]
  },
  {
   "cell_type": "code",
   "execution_count": null,
   "metadata": {},
   "outputs": [],
   "source": [
    "# NameError\n",
    "print(EOL)"
   ]
  },
  {
   "cell_type": "markdown",
   "metadata": {},
   "source": [
    "## 예외 (Exceptions)\n",
    "\n",
    "* 문법이나 표현식이 바르게 되어있지만, **실행시 발생하는 에러**입니다.\n",
    "\n",
    "* 아래 제시된 모든 에러는 Exception을 상속받아 이뤄집니다.\n",
    "\n",
    "### (1) 예외 발생 예시\n",
    "\n",
    "예상치 못한 조건/상태를 만났을 때 발생합니다.\n",
    "\n",
    "1. list의 크기 이상의 index를 만났을때 => IndexError\n",
    "```py\n",
    "num = [1,2,3]\n",
    "num[3]\n",
    "```\n",
    "2. 부적합한 타입으로 변환할때 => TypeError\n",
    "```py\n",
    "int(test)\n",
    "```\n",
    "3. 존재하지 않는 변수를 읽을때(참조할때) => NameError\n",
    "```py\n",
    "a\n",
    "```\n",
    "4. 데이터 타입이 맞지 않을때 => TypeError\n",
    "```py\n",
    "'a'/4\n",
    "```"
   ]
  },
  {
   "cell_type": "code",
   "execution_count": null,
   "metadata": {},
   "outputs": [],
   "source": [
    "# ZeroDivisionError를 확인해봅시다.\n",
    "10 / 0\n",
    "\n",
    "# 0으로 나눌 수는 없죠!"
   ]
  },
  {
   "cell_type": "markdown",
   "metadata": {},
   "source": [
    "## 예외 처리 \n",
    "\n",
    "### 기본  - `try` `except`\n",
    "`try` 구문을 이용하여 예외 처리를 할 수 있습니다.\n",
    "\n",
    "기본은 다음과 같은 구조를 가지고 있습니다.\n",
    "\n",
    "```python\n",
    "try:\n",
    "    codeblock1\n",
    "except 예외:\n",
    "    codeblock2\n",
    "```\n",
    "\n",
    "* `try`절이 실행됩니다. \n",
    "\n",
    "* 예외가 발생되지 않으면, `except`없이 실행이 종료가 됩니다.\n",
    "\n",
    "* 예외가 중간에 발생하면, 남은 부분을 수행하지 않고, `except`가 실행됩니다."
   ]
  },
  {
   "cell_type": "markdown",
   "metadata": {},
   "source": [
    "#### `try ... except: ...` 구문\n",
    "\n",
    "```python\n",
    "try:\n",
    "   ...\n",
    "except [발생오류[as 오류변수]]:\n",
    "   ...\n",
    "```"
   ]
  },
  {
   "cell_type": "code",
   "execution_count": null,
   "metadata": {},
   "outputs": [],
   "source": [
    "try:\n",
    "    4 / 0\n",
    "except:\n",
    "    print(\"divide by zero\")"
   ]
  },
  {
   "cell_type": "code",
   "execution_count": null,
   "metadata": {},
   "outputs": [],
   "source": [
    "try:\n",
    "    4 / 0\n",
    "except ZeroDivisionError:\n",
    "    print(\"divide by zero\")"
   ]
  },
  {
   "cell_type": "code",
   "execution_count": null,
   "metadata": {},
   "outputs": [],
   "source": [
    "try:\n",
    "    abc\n",
    "    4 / 0\n",
    "except ZeroDivisionError:\n",
    "    print(e)"
   ]
  },
  {
   "cell_type": "markdown",
   "metadata": {},
   "source": [
    "여러 예외를 제시하면 된다."
   ]
  },
  {
   "cell_type": "code",
   "execution_count": null,
   "metadata": {},
   "outputs": [],
   "source": [
    "try:\n",
    "    abc\n",
    "    4 / 0\n",
    "except (ZeroDivisionError, NameError) as e:\n",
    "    print(e)"
   ]
  },
  {
   "cell_type": "markdown",
   "metadata": {},
   "source": [
    "## `else`\n",
    "\n",
    "* 에러가 발생하지 않는 경우 수행되는 문장은 `else`를 이용합니다.\n",
    "\n",
    "```python\n",
    "try:\n",
    "    codeblock1\n",
    "except 예외:\n",
    "    codeblock2\n",
    "else:\n",
    "    codeblock3\n",
    "```"
   ]
  },
  {
   "cell_type": "code",
   "execution_count": null,
   "metadata": {},
   "outputs": [],
   "source": [
    "try:\n",
    "    4 / 0\n",
    "except ZeroDivisionError as e:\n",
    "    print(e)\n",
    "else:\n",
    "    return -1"
   ]
  },
  {
   "cell_type": "markdown",
   "metadata": {},
   "source": [
    "## `finally` \n",
    "\n",
    "* 반드시 수행해야하는 문장은 `finally`\n",
    "\n",
    "```python\n",
    "try:\n",
    "    pass\n",
    "except 예외:\n",
    "    pass\n",
    "finally:\n",
    "    pass\n",
    "```"
   ]
  },
  {
   "cell_type": "markdown",
   "metadata": {},
   "source": [
    "#### `try ... finally`\n",
    "\n",
    "예외 발생 여부와 관계없이 마지막에 항상 수행된다. 보통 시스템 리소스를 close 해야할 때 많이 사용한다.\n",
    "\n"
   ]
  }
 ],
 "metadata": {
  "kernelspec": {
   "display_name": "Python 3",
   "language": "python",
   "name": "python3"
  },
  "language_info": {
   "codemirror_mode": {
    "name": "ipython",
    "version": 3
   },
   "file_extension": ".py",
   "mimetype": "text/x-python",
   "name": "python",
   "nbconvert_exporter": "python",
   "pygments_lexer": "ipython3",
   "version": "3.8.8"
  }
 },
 "nbformat": 4,
 "nbformat_minor": 4
}
